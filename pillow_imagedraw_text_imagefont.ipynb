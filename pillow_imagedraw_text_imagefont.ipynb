{
 "cells": [
  {
   "cell_type": "code",
   "execution_count": 1,
   "id": "9b07689c",
   "metadata": {},
   "outputs": [],
   "source": [
    "import PIL"
   ]
  },
  {
   "cell_type": "code",
   "execution_count": 2,
   "id": "1debcdab",
   "metadata": {},
   "outputs": [
    {
     "name": "stdout",
     "output_type": "stream",
     "text": [
      "9.2.0\n"
     ]
    }
   ],
   "source": [
    "print(PIL.__version__)"
   ]
  },
  {
   "cell_type": "code",
   "execution_count": 3,
   "id": "f04d871f",
   "metadata": {},
   "outputs": [],
   "source": [
    "from PIL import Image, ImageDraw, ImageFont"
   ]
  },
  {
   "cell_type": "code",
   "execution_count": 4,
   "id": "591b95c8",
   "metadata": {},
   "outputs": [],
   "source": [
    "img = Image.open('data/src/astronaut_rect.bmp')"
   ]
  },
  {
   "cell_type": "code",
   "execution_count": 5,
   "id": "70615187",
   "metadata": {},
   "outputs": [],
   "source": [
    "draw = ImageDraw.Draw(img)\n",
    "draw.text((75, 50), 'Astronaut', 'red')"
   ]
  },
  {
   "cell_type": "code",
   "execution_count": 6,
   "id": "9d6b7d2e",
   "metadata": {},
   "outputs": [],
   "source": [
    "img.save('data/dst/pillow_imagedraw_text.jpg')"
   ]
  },
  {
   "cell_type": "code",
   "execution_count": 7,
   "id": "3c1441f5",
   "metadata": {},
   "outputs": [],
   "source": [
    "img = Image.open('data/src/astronaut_rect.bmp')"
   ]
  },
  {
   "cell_type": "code",
   "execution_count": 8,
   "id": "b30853b5",
   "metadata": {},
   "outputs": [],
   "source": [
    "draw = ImageDraw.Draw(img)\n",
    "draw.text((75, 50), 'I am an\\nAstronaut', (255, 0, 0), spacing=10, align='right')"
   ]
  },
  {
   "cell_type": "code",
   "execution_count": 9,
   "id": "373e4e55",
   "metadata": {},
   "outputs": [],
   "source": [
    "img.save('data/dst/pillow_imagedraw_text_multiline.jpg')"
   ]
  },
  {
   "cell_type": "code",
   "execution_count": 10,
   "id": "c4011bd4",
   "metadata": {},
   "outputs": [],
   "source": [
    "font = ImageFont.truetype('Arial.ttf', 24)"
   ]
  },
  {
   "cell_type": "code",
   "execution_count": 11,
   "id": "64381f07",
   "metadata": {},
   "outputs": [],
   "source": [
    "img = Image.open('data/src/astronaut_rect.bmp')"
   ]
  },
  {
   "cell_type": "code",
   "execution_count": 12,
   "id": "e0c3ecf4",
   "metadata": {},
   "outputs": [],
   "source": [
    "draw = ImageDraw.Draw(img)\n",
    "draw.text((75, 50), 'I am an\\nAstronaut', '#FF0000', font=font)"
   ]
  },
  {
   "cell_type": "code",
   "execution_count": 13,
   "id": "0175562c",
   "metadata": {},
   "outputs": [],
   "source": [
    "img.save('data/dst/pillow_imagedraw_text_arial.jpg')"
   ]
  },
  {
   "cell_type": "code",
   "execution_count": 14,
   "id": "8756b5eb",
   "metadata": {},
   "outputs": [
    {
     "name": "stdout",
     "output_type": "stream",
     "text": [
      "('Helvetica', 'Regular')\n"
     ]
    }
   ],
   "source": [
    "print(ImageFont.truetype('Helvetica.ttc').getname())"
   ]
  },
  {
   "cell_type": "code",
   "execution_count": 15,
   "id": "d8810ae4",
   "metadata": {},
   "outputs": [
    {
     "name": "stdout",
     "output_type": "stream",
     "text": [
      "('Helvetica', 'Regular')\n"
     ]
    }
   ],
   "source": [
    "print(ImageFont.truetype('Helvetica.ttc', index=0).getname())"
   ]
  },
  {
   "cell_type": "code",
   "execution_count": 16,
   "id": "75f6c712",
   "metadata": {},
   "outputs": [
    {
     "name": "stdout",
     "output_type": "stream",
     "text": [
      "('Helvetica', 'Bold')\n"
     ]
    }
   ],
   "source": [
    "print(ImageFont.truetype('Helvetica.ttc', index=1).getname())"
   ]
  },
  {
   "cell_type": "code",
   "execution_count": 17,
   "id": "41e74ae6",
   "metadata": {},
   "outputs": [
    {
     "name": "stdout",
     "output_type": "stream",
     "text": [
      "('Helvetica', 'Oblique')\n"
     ]
    }
   ],
   "source": [
    "print(ImageFont.truetype('Helvetica.ttc', index=2).getname())"
   ]
  },
  {
   "cell_type": "code",
   "execution_count": 18,
   "id": "be6567e7",
   "metadata": {},
   "outputs": [],
   "source": [
    "img = Image.open('data/src/astronaut_rect.bmp')"
   ]
  },
  {
   "cell_type": "code",
   "execution_count": 19,
   "id": "da9e52e9",
   "metadata": {},
   "outputs": [],
   "source": [
    "draw = ImageDraw.Draw(img)\n",
    "draw.text((75, 50), 'I am an\\nAstronaut', '#FF0000', font=font, anchor='md')"
   ]
  },
  {
   "cell_type": "code",
   "execution_count": 20,
   "id": "0ac85413",
   "metadata": {},
   "outputs": [],
   "source": [
    "img.save('data/dst/pillow_imagedraw_text_anchor.jpg')"
   ]
  },
  {
   "cell_type": "code",
   "execution_count": 21,
   "id": "d5fe6c26",
   "metadata": {},
   "outputs": [],
   "source": [
    "img = Image.open('data/src/astronaut_rect.bmp')"
   ]
  },
  {
   "cell_type": "code",
   "execution_count": 22,
   "id": "5bd748e5",
   "metadata": {},
   "outputs": [],
   "source": [
    "draw = ImageDraw.Draw(img)"
   ]
  },
  {
   "cell_type": "code",
   "execution_count": 23,
   "id": "5dc5576a",
   "metadata": {},
   "outputs": [
    {
     "name": "stdout",
     "output_type": "stream",
     "text": [
      "(23.0, 1, 127.0, 44)\n"
     ]
    }
   ],
   "source": [
    "print(draw.textbbox((75, 50), 'I am an\\nAstronaut', font=font, anchor='md'))"
   ]
  },
  {
   "cell_type": "code",
   "execution_count": 24,
   "id": "1dee7bb1",
   "metadata": {},
   "outputs": [],
   "source": [
    "draw.text((75, 50), 'I am an\\nAstronaut', '#FF0000', font=font, anchor='md')\n",
    "draw.rectangle(draw.textbbox((75, 50), 'I am an\\nAstronaut', font=font, anchor='md'), outline='white', width=2)"
   ]
  },
  {
   "cell_type": "code",
   "execution_count": 25,
   "id": "d7ee30d1",
   "metadata": {},
   "outputs": [],
   "source": [
    "img.save('data/dst/pillow_imagedraw_text_textbbox.jpg')"
   ]
  },
  {
   "cell_type": "code",
   "execution_count": 26,
   "id": "8a215086",
   "metadata": {},
   "outputs": [
    {
     "name": "stdout",
     "output_type": "stream",
     "text": [
      "(-29.0, 1, 75.0, 44)\n"
     ]
    }
   ],
   "source": [
    "print(draw.textbbox((75, 50), 'I am an\\nAstronaut', font=font, anchor='rd'))"
   ]
  },
  {
   "cell_type": "code",
   "execution_count": 27,
   "id": "2af1efb2",
   "metadata": {},
   "outputs": [],
   "source": [
    "img = Image.open('data/src/astronaut_rect.bmp')"
   ]
  },
  {
   "cell_type": "code",
   "execution_count": 28,
   "id": "421455d0",
   "metadata": {},
   "outputs": [],
   "source": [
    "font = ImageFont.truetype('ヒラギノ丸ゴ ProN W4.ttc', 24)"
   ]
  },
  {
   "cell_type": "code",
   "execution_count": 29,
   "id": "abc1c8a3",
   "metadata": {},
   "outputs": [],
   "source": [
    "draw = ImageDraw.Draw(img)\n",
    "draw.text((100, 50), '私は', 'red', font=font, direction='ttb')\n",
    "draw.text((75, 50), '宇宙飛行士', 'red', font=font, direction='ttb')"
   ]
  },
  {
   "cell_type": "code",
   "execution_count": 30,
   "id": "a2553c7f",
   "metadata": {},
   "outputs": [],
   "source": [
    "img.save('data/dst/pillow_imagedraw_text_ja.jpg')"
   ]
  },
  {
   "cell_type": "code",
   "execution_count": 31,
   "id": "c3bdcc27",
   "metadata": {},
   "outputs": [],
   "source": [
    "# draw.text((100, 50), '私は\\n宇宙飛行士', 'black', font=font, direction='ttb')\n",
    "# ValueError: ttb direction is unsupported for multiline text"
   ]
  }
 ],
 "metadata": {
  "kernelspec": {
   "display_name": "Python 3",
   "language": "python",
   "name": "python3"
  },
  "language_info": {
   "codemirror_mode": {
    "name": "ipython",
    "version": 3
   },
   "file_extension": ".py",
   "mimetype": "text/x-python",
   "name": "python",
   "nbconvert_exporter": "python",
   "pygments_lexer": "ipython3",
   "version": "3.10.6"
  }
 },
 "nbformat": 4,
 "nbformat_minor": 5
}
