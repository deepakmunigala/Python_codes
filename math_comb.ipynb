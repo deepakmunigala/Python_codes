{
 "cells": [
  {
   "cell_type": "code",
   "execution_count": 1,
   "id": "875f6302",
   "metadata": {},
   "outputs": [],
   "source": [
    "import math"
   ]
  },
  {
   "cell_type": "code",
   "execution_count": 2,
   "id": "18a0601a",
   "metadata": {},
   "outputs": [
    {
     "name": "stdout",
     "output_type": "stream",
     "text": [
      "6\n"
     ]
    }
   ],
   "source": [
    "print(math.comb(4, 2))"
   ]
  },
  {
   "cell_type": "code",
   "execution_count": 3,
   "id": "00d31800",
   "metadata": {},
   "outputs": [],
   "source": [
    "# print(math.comb(4.5, 2.5))\n",
    "# TypeError: 'float' object cannot be interpreted as an integer"
   ]
  },
  {
   "cell_type": "code",
   "execution_count": 4,
   "id": "f7058e19",
   "metadata": {},
   "outputs": [],
   "source": [
    "# print(math.comb(-4, -2))\n",
    "# ValueError: n must be a non-negative integer"
   ]
  },
  {
   "cell_type": "code",
   "execution_count": 5,
   "id": "9d111cd6",
   "metadata": {},
   "outputs": [],
   "source": [
    "def combinations_with_replacement_count(n, k):\n",
    "    return math.comb(n + k - 1, k)"
   ]
  },
  {
   "cell_type": "code",
   "execution_count": 6,
   "id": "96897245",
   "metadata": {},
   "outputs": [
    {
     "name": "stdout",
     "output_type": "stream",
     "text": [
      "10\n"
     ]
    }
   ],
   "source": [
    "print(combinations_with_replacement_count(4, 2))"
   ]
  }
 ],
 "metadata": {
  "kernelspec": {
   "display_name": "Python 3",
   "language": "python",
   "name": "python3"
  },
  "language_info": {
   "codemirror_mode": {
    "name": "ipython",
    "version": 3
   },
   "file_extension": ".py",
   "mimetype": "text/x-python",
   "name": "python",
   "nbconvert_exporter": "python",
   "pygments_lexer": "ipython3",
   "version": "3.10.8"
  }
 },
 "nbformat": 4,
 "nbformat_minor": 5
}
