{
 "cells": [
  {
   "cell_type": "code",
   "execution_count": 1,
   "id": "2664dbc6",
   "metadata": {},
   "outputs": [],
   "source": [
    "import pyzbar"
   ]
  },
  {
   "cell_type": "code",
   "execution_count": 2,
   "id": "02a94dea",
   "metadata": {},
   "outputs": [
    {
     "name": "stdout",
     "output_type": "stream",
     "text": [
      "0.1.9\n"
     ]
    }
   ],
   "source": [
    "print(pyzbar.__version__)"
   ]
  },
  {
   "cell_type": "code",
   "execution_count": 3,
   "id": "bc01aa73",
   "metadata": {},
   "outputs": [],
   "source": [
    "from PIL import Image\n",
    "from pyzbar.pyzbar import decode, ZBarSymbol"
   ]
  },
  {
   "cell_type": "code",
   "execution_count": 4,
   "id": "34db50b6",
   "metadata": {},
   "outputs": [],
   "source": [
    "img = Image.open('data/src/barcode_qrcode.jpg')"
   ]
  },
  {
   "cell_type": "code",
   "execution_count": 5,
   "id": "1959c73c",
   "metadata": {},
   "outputs": [],
   "source": [
    "decoded_list = decode(img)"
   ]
  },
  {
   "cell_type": "code",
   "execution_count": 6,
   "id": "0f3e72e4",
   "metadata": {},
   "outputs": [
    {
     "name": "stdout",
     "output_type": "stream",
     "text": [
      "<class 'list'>\n"
     ]
    }
   ],
   "source": [
    "print(type(decoded_list))"
   ]
  },
  {
   "cell_type": "code",
   "execution_count": 7,
   "id": "7810cb1b",
   "metadata": {},
   "outputs": [
    {
     "name": "stdout",
     "output_type": "stream",
     "text": [
      "3\n"
     ]
    }
   ],
   "source": [
    "print(len(decoded_list))"
   ]
  },
  {
   "cell_type": "code",
   "execution_count": 8,
   "id": "59afb8c0",
   "metadata": {},
   "outputs": [
    {
     "name": "stdout",
     "output_type": "stream",
     "text": [
      "<class 'pyzbar.pyzbar.Decoded'>\n"
     ]
    }
   ],
   "source": [
    "print(type(decoded_list[0]))"
   ]
  },
  {
   "cell_type": "code",
   "execution_count": 9,
   "id": "27c4c161",
   "metadata": {},
   "outputs": [
    {
     "name": "stdout",
     "output_type": "stream",
     "text": [
      "Decoded(data=b'QR Code Example', type='QRCODE', rect=Rect(left=8, top=6, width=159, height=160), polygon=[Point(x=8, y=66), Point(x=66, y=166), Point(x=167, y=109), Point(x=108, y=6)], quality=1, orientation='UP')\n"
     ]
    }
   ],
   "source": [
    "print(decoded_list[0])"
   ]
  },
  {
   "cell_type": "code",
   "execution_count": 10,
   "id": "85db6ecd",
   "metadata": {},
   "outputs": [
    {
     "name": "stdout",
     "output_type": "stream",
     "text": [
      "Decoded(data=b'1923055034006', type='EAN13', rect=Rect(left=161, top=217, width=175, height=32), polygon=[Point(x=161, y=229), Point(x=239, y=249), Point(x=330, y=248), Point(x=332, y=242), Point(x=335, y=226), Point(x=336, y=220), Point(x=336, y=218), Point(x=248, y=217), Point(x=165, y=217), Point(x=164, y=219), Point(x=162, y=225)], quality=37, orientation='UP')\n"
     ]
    }
   ],
   "source": [
    "print(decoded_list[1])"
   ]
  },
  {
   "cell_type": "code",
   "execution_count": 11,
   "id": "bf178e09",
   "metadata": {},
   "outputs": [
    {
     "name": "stdout",
     "output_type": "stream",
     "text": [
      "Decoded(data=b'9784873117980', type='EAN13', rect=Rect(left=196, top=128, width=158, height=26), polygon=[Point(x=196, y=137), Point(x=267, y=151), Point(x=348, y=154), Point(x=349, y=152), Point(x=352, y=138), Point(x=354, y=128), Point(x=199, y=129), Point(x=197, y=133)], quality=25, orientation='UP')\n"
     ]
    }
   ],
   "source": [
    "print(decoded_list[2])"
   ]
  },
  {
   "cell_type": "code",
   "execution_count": 12,
   "id": "ec827de5",
   "metadata": {},
   "outputs": [
    {
     "name": "stdout",
     "output_type": "stream",
     "text": [
      "b'QR Code Example'\n"
     ]
    }
   ],
   "source": [
    "print(decoded_list[0].data)"
   ]
  },
  {
   "cell_type": "code",
   "execution_count": 13,
   "id": "30e34499",
   "metadata": {},
   "outputs": [
    {
     "name": "stdout",
     "output_type": "stream",
     "text": [
      "<class 'bytes'>\n"
     ]
    }
   ],
   "source": [
    "print(type(decoded_list[0].data))"
   ]
  },
  {
   "cell_type": "code",
   "execution_count": 14,
   "id": "e399867b",
   "metadata": {},
   "outputs": [
    {
     "name": "stdout",
     "output_type": "stream",
     "text": [
      "QR Code Example\n"
     ]
    }
   ],
   "source": [
    "print(decoded_list[0].data.decode())"
   ]
  },
  {
   "cell_type": "code",
   "execution_count": 15,
   "id": "462da054",
   "metadata": {},
   "outputs": [
    {
     "name": "stdout",
     "output_type": "stream",
     "text": [
      "QRCODE\n"
     ]
    }
   ],
   "source": [
    "print(decoded_list[0].type)"
   ]
  },
  {
   "cell_type": "code",
   "execution_count": 16,
   "id": "f47acd5c",
   "metadata": {},
   "outputs": [
    {
     "name": "stdout",
     "output_type": "stream",
     "text": [
      "EAN13\n"
     ]
    }
   ],
   "source": [
    "print(decoded_list[1].type)"
   ]
  },
  {
   "cell_type": "code",
   "execution_count": 17,
   "id": "e58b6386",
   "metadata": {},
   "outputs": [
    {
     "name": "stdout",
     "output_type": "stream",
     "text": [
      "Rect(left=8, top=6, width=159, height=160)\n"
     ]
    }
   ],
   "source": [
    "print(decoded_list[0].rect)"
   ]
  },
  {
   "cell_type": "code",
   "execution_count": 18,
   "id": "05dcc77e",
   "metadata": {},
   "outputs": [
    {
     "name": "stdout",
     "output_type": "stream",
     "text": [
      "[Point(x=8, y=66), Point(x=66, y=166), Point(x=167, y=109), Point(x=108, y=6)]\n"
     ]
    }
   ],
   "source": [
    "print(decoded_list[0].polygon)"
   ]
  },
  {
   "cell_type": "code",
   "execution_count": 19,
   "id": "972153ab",
   "metadata": {},
   "outputs": [
    {
     "name": "stdout",
     "output_type": "stream",
     "text": [
      "1\n"
     ]
    }
   ],
   "source": [
    "print(len(decode(img, symbols=[ZBarSymbol.QRCODE])))"
   ]
  },
  {
   "cell_type": "code",
   "execution_count": 20,
   "id": "f18a8aa2",
   "metadata": {},
   "outputs": [
    {
     "name": "stdout",
     "output_type": "stream",
     "text": [
      "2\n"
     ]
    }
   ],
   "source": [
    "print(len(decode(img, symbols=[ZBarSymbol.EAN13])))"
   ]
  },
  {
   "cell_type": "code",
   "execution_count": 21,
   "id": "1ffe2699",
   "metadata": {},
   "outputs": [
    {
     "name": "stdout",
     "output_type": "stream",
     "text": [
      "3\n"
     ]
    }
   ],
   "source": [
    "print(len(decode(img, symbols=[ZBarSymbol.QRCODE, ZBarSymbol.EAN13])))"
   ]
  },
  {
   "cell_type": "code",
   "execution_count": 22,
   "id": "79d88502",
   "metadata": {},
   "outputs": [
    {
     "name": "stdout",
     "output_type": "stream",
     "text": [
      "ZBarSymbol.NONE\n",
      "ZBarSymbol.PARTIAL\n",
      "ZBarSymbol.EAN2\n",
      "ZBarSymbol.EAN5\n",
      "ZBarSymbol.EAN8\n",
      "ZBarSymbol.UPCE\n",
      "ZBarSymbol.ISBN10\n",
      "ZBarSymbol.UPCA\n",
      "ZBarSymbol.EAN13\n",
      "ZBarSymbol.ISBN13\n",
      "ZBarSymbol.COMPOSITE\n",
      "ZBarSymbol.I25\n",
      "ZBarSymbol.DATABAR\n",
      "ZBarSymbol.DATABAR_EXP\n",
      "ZBarSymbol.CODABAR\n",
      "ZBarSymbol.CODE39\n",
      "ZBarSymbol.PDF417\n",
      "ZBarSymbol.QRCODE\n",
      "ZBarSymbol.SQCODE\n",
      "ZBarSymbol.CODE93\n",
      "ZBarSymbol.CODE128\n"
     ]
    }
   ],
   "source": [
    "for s in ZBarSymbol:\n",
    "    print(s)"
   ]
  }
 ],
 "metadata": {
  "kernelspec": {
   "display_name": "Python 3",
   "language": "python",
   "name": "python3"
  },
  "language_info": {
   "codemirror_mode": {
    "name": "ipython",
    "version": 3
   },
   "file_extension": ".py",
   "mimetype": "text/x-python",
   "name": "python",
   "nbconvert_exporter": "python",
   "pygments_lexer": "ipython3",
   "version": "3.10.6"
  }
 },
 "nbformat": 4,
 "nbformat_minor": 5
}
