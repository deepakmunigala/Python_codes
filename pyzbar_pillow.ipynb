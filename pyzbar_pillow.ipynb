{
 "cells": [
  {
   "cell_type": "code",
   "execution_count": 1,
   "id": "96717c93",
   "metadata": {},
   "outputs": [],
   "source": [
    "from PIL import Image, ImageDraw, ImageFont\n",
    "from pyzbar.pyzbar import decode"
   ]
  },
  {
   "cell_type": "code",
   "execution_count": 2,
   "id": "0365c631",
   "metadata": {},
   "outputs": [],
   "source": [
    "img = Image.open('data/src/barcode_qrcode.jpg')"
   ]
  },
  {
   "cell_type": "code",
   "execution_count": 3,
   "id": "3edd714e",
   "metadata": {},
   "outputs": [],
   "source": [
    "draw = ImageDraw.Draw(img)\n",
    "font = ImageFont.truetype('Arial.ttf', size=20)  # Set 'arial.ttf' for Windows"
   ]
  },
  {
   "cell_type": "code",
   "execution_count": 4,
   "id": "7bda309e",
   "metadata": {},
   "outputs": [],
   "source": [
    "for d in decode(img):\n",
    "    draw.rectangle(((d.rect.left, d.rect.top), (d.rect.left + d.rect.width, d.rect.top + d.rect.height)),\n",
    "                   outline=(0, 0, 255), width=3)\n",
    "    draw.polygon(d.polygon, outline=(0, 255, 0), width=3)\n",
    "    draw.text((d.rect.left, d.rect.top + d.rect.height), d.data.decode(),\n",
    "              (255, 0, 0), font=font)"
   ]
  },
  {
   "cell_type": "code",
   "execution_count": 5,
   "id": "fbd28c54",
   "metadata": {},
   "outputs": [],
   "source": [
    "img.save('data/dst/barcode_qrcode_pillow.jpg')"
   ]
  }
 ],
 "metadata": {
  "kernelspec": {
   "display_name": "Python 3",
   "language": "python",
   "name": "python3"
  },
  "language_info": {
   "codemirror_mode": {
    "name": "ipython",
    "version": 3
   },
   "file_extension": ".py",
   "mimetype": "text/x-python",
   "name": "python",
   "nbconvert_exporter": "python",
   "pygments_lexer": "ipython3",
   "version": "3.10.6"
  }
 },
 "nbformat": 4,
 "nbformat_minor": 5
}
