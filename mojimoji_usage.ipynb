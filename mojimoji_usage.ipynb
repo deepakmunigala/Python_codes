{
 "cells": [
  {
   "cell_type": "code",
   "execution_count": 1,
   "id": "abaa5fba",
   "metadata": {},
   "outputs": [],
   "source": [
    "import mojimoji"
   ]
  },
  {
   "cell_type": "code",
   "execution_count": 2,
   "id": "abc3e152",
   "metadata": {},
   "outputs": [
    {
     "name": "stdout",
     "output_type": "stream",
     "text": [
      "123abc!?ｱｲｳｴｵ123abc!?ｱｲｳｴｵ\n"
     ]
    }
   ],
   "source": [
    "s = '１２３ａｂｃ！？アイウエオ123abc!?ｱｲｳｴｵ'\n",
    "print(mojimoji.zen_to_han(s))"
   ]
  },
  {
   "cell_type": "code",
   "execution_count": 3,
   "id": "c390e6bc",
   "metadata": {},
   "outputs": [
    {
     "name": "stdout",
     "output_type": "stream",
     "text": [
      "１２３ａｂｃ！？アイウエオ１２３ａｂｃ！？アイウエオ\n"
     ]
    }
   ],
   "source": [
    "s = '１２３ａｂｃ！？アイウエオ123abc!?ｱｲｳｴｵ'\n",
    "print(mojimoji.han_to_zen(s))"
   ]
  },
  {
   "cell_type": "code",
   "execution_count": 4,
   "id": "7e3c3e79",
   "metadata": {},
   "outputs": [
    {
     "name": "stdout",
     "output_type": "stream",
     "text": [
      "123abc!?アイウエオ123abc!?ｱｲｳｴｵ\n"
     ]
    }
   ],
   "source": [
    "s = '１２３ａｂｃ！？アイウエオ123abc!?ｱｲｳｴｵ'\n",
    "print(mojimoji.zen_to_han(s, kana=False))"
   ]
  },
  {
   "cell_type": "code",
   "execution_count": 5,
   "id": "999ca8c7",
   "metadata": {},
   "outputs": [
    {
     "name": "stdout",
     "output_type": "stream",
     "text": [
      "１２３ａｂｃ！？アイウエオ123abc!?アイウエオ\n"
     ]
    }
   ],
   "source": [
    "print(mojimoji.han_to_zen(s, digit=False, ascii=False))"
   ]
  },
  {
   "cell_type": "code",
   "execution_count": 6,
   "id": "c82b8eb4",
   "metadata": {},
   "outputs": [
    {
     "name": "stdout",
     "output_type": "stream",
     "text": [
      "123abc!?アイウエオ123abc!?アイウエオ\n"
     ]
    }
   ],
   "source": [
    "print(mojimoji.han_to_zen(mojimoji.zen_to_han(s, kana=False), digit=False, ascii=False))"
   ]
  }
 ],
 "metadata": {
  "kernelspec": {
   "display_name": "Python 3",
   "language": "python",
   "name": "python3"
  },
  "language_info": {
   "codemirror_mode": {
    "name": "ipython",
    "version": 3
   },
   "file_extension": ".py",
   "mimetype": "text/x-python",
   "name": "python",
   "nbconvert_exporter": "python",
   "pygments_lexer": "ipython3",
   "version": "3.10.8"
  }
 },
 "nbformat": 4,
 "nbformat_minor": 5
}
