{
 "cells": [
  {
   "cell_type": "code",
   "execution_count": 1,
   "id": "2b5128f8",
   "metadata": {},
   "outputs": [],
   "source": [
    "import cv2"
   ]
  },
  {
   "cell_type": "code",
   "execution_count": 2,
   "id": "8aa89760",
   "metadata": {},
   "outputs": [
    {
     "name": "stdout",
     "output_type": "stream",
     "text": [
      "4.6.0\n"
     ]
    }
   ],
   "source": [
    "print(cv2.__version__)"
   ]
  },
  {
   "cell_type": "code",
   "execution_count": 3,
   "id": "fc4ab585",
   "metadata": {},
   "outputs": [],
   "source": [
    "img = cv2.imread('data/src/barcode.jpg')"
   ]
  },
  {
   "cell_type": "code",
   "execution_count": 4,
   "id": "6cfc183e",
   "metadata": {},
   "outputs": [],
   "source": [
    "bd = cv2.barcode.BarcodeDetector()\n",
    "# bd = cv2.barcode.BarcodeDetector('path/to/sr.prototxt', 'path/to/sr.caffemodel')"
   ]
  },
  {
   "cell_type": "code",
   "execution_count": 5,
   "id": "3e9e925e",
   "metadata": {},
   "outputs": [],
   "source": [
    "retval, decoded_info, decoded_type, points = bd.detectAndDecode(img)"
   ]
  },
  {
   "cell_type": "code",
   "execution_count": 6,
   "id": "06d9bbae",
   "metadata": {},
   "outputs": [
    {
     "name": "stdout",
     "output_type": "stream",
     "text": [
      "True\n"
     ]
    }
   ],
   "source": [
    "print(retval)"
   ]
  },
  {
   "cell_type": "code",
   "execution_count": 7,
   "id": "6fd34399",
   "metadata": {},
   "outputs": [
    {
     "name": "stdout",
     "output_type": "stream",
     "text": [
      "('1923055034006', '9784873117980')\n"
     ]
    }
   ],
   "source": [
    "print(decoded_info)"
   ]
  },
  {
   "cell_type": "code",
   "execution_count": 8,
   "id": "fcb20c18",
   "metadata": {},
   "outputs": [
    {
     "name": "stdout",
     "output_type": "stream",
     "text": [
      "(2, 2)\n"
     ]
    }
   ],
   "source": [
    "print(decoded_type)"
   ]
  },
  {
   "cell_type": "code",
   "execution_count": 9,
   "id": "685f5a3c",
   "metadata": {},
   "outputs": [
    {
     "name": "stdout",
     "output_type": "stream",
     "text": [
      "2\n"
     ]
    }
   ],
   "source": [
    "print(cv2.barcode.EAN_13)"
   ]
  },
  {
   "cell_type": "code",
   "execution_count": 10,
   "id": "fc8a4038",
   "metadata": {},
   "outputs": [
    {
     "name": "stdout",
     "output_type": "stream",
     "text": [
      "<class 'numpy.ndarray'>\n"
     ]
    }
   ],
   "source": [
    "print(type(points))"
   ]
  },
  {
   "cell_type": "code",
   "execution_count": 11,
   "id": "3b29cda4",
   "metadata": {},
   "outputs": [
    {
     "name": "stdout",
     "output_type": "stream",
     "text": [
      "[[[142.38849 221.83641]\n",
      "  [156.36218 172.35411]\n",
      "  [356.90564 228.98714]\n",
      "  [342.93195 278.46942]]\n",
      "\n",
      " [[180.30583 128.89304]\n",
      "  [191.59013  88.83808]\n",
      "  [371.00458 139.38284]\n",
      "  [359.72028 179.4378 ]]]\n"
     ]
    }
   ],
   "source": [
    "print(points)"
   ]
  },
  {
   "cell_type": "code",
   "execution_count": 12,
   "id": "de662f67",
   "metadata": {},
   "outputs": [
    {
     "name": "stdout",
     "output_type": "stream",
     "text": [
      "(2, 4, 2)\n"
     ]
    }
   ],
   "source": [
    "print(points.shape)"
   ]
  },
  {
   "cell_type": "code",
   "execution_count": 13,
   "id": "a81be969",
   "metadata": {},
   "outputs": [],
   "source": [
    "img = cv2.polylines(img, points.astype(int), True, (0, 255, 0), 3)"
   ]
  },
  {
   "cell_type": "code",
   "execution_count": 14,
   "id": "dfa8edb5",
   "metadata": {},
   "outputs": [],
   "source": [
    "for s, p in zip(decoded_info, points):\n",
    "    img = cv2.putText(img, s, p[1].astype(int),\n",
    "                      cv2.FONT_HERSHEY_SIMPLEX, 0.5, (0, 0, 255), 1, cv2.LINE_AA)"
   ]
  },
  {
   "cell_type": "code",
   "execution_count": 15,
   "id": "faa0ee65",
   "metadata": {},
   "outputs": [
    {
     "data": {
      "text/plain": [
       "True"
      ]
     },
     "execution_count": 15,
     "metadata": {},
     "output_type": "execute_result"
    }
   ],
   "source": [
    "cv2.imwrite('data/dst/barcode_opencv.jpg', img)"
   ]
  }
 ],
 "metadata": {
  "kernelspec": {
   "display_name": "Python 3",
   "language": "python",
   "name": "python3"
  },
  "language_info": {
   "codemirror_mode": {
    "name": "ipython",
    "version": 3
   },
   "file_extension": ".py",
   "mimetype": "text/x-python",
   "name": "python",
   "nbconvert_exporter": "python",
   "pygments_lexer": "ipython3",
   "version": "3.10.6"
  }
 },
 "nbformat": 4,
 "nbformat_minor": 5
}
