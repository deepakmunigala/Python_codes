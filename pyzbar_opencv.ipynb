{
 "cells": [
  {
   "cell_type": "code",
   "execution_count": 1,
   "id": "6e80be91",
   "metadata": {},
   "outputs": [],
   "source": [
    "import cv2\n",
    "import numpy as np\n",
    "from pyzbar.pyzbar import decode"
   ]
  },
  {
   "cell_type": "code",
   "execution_count": 2,
   "id": "62d9d325",
   "metadata": {},
   "outputs": [],
   "source": [
    "img = cv2.imread('data/src/barcode_qrcode.jpg')"
   ]
  },
  {
   "cell_type": "code",
   "execution_count": 3,
   "id": "f80cb505",
   "metadata": {},
   "outputs": [],
   "source": [
    "for d in decode(img):\n",
    "    img = cv2.rectangle(img, (d.rect.left, d.rect.top),\n",
    "                        (d.rect.left + d.rect.width, d.rect.top + d.rect.height), (255, 0, 0), 2)\n",
    "    img = cv2.polylines(img, [np.array(d.polygon)], True, (0, 255, 0), 2)\n",
    "    img = cv2.putText(img, d.data.decode(), (d.rect.left, d.rect.top + d.rect.height),\n",
    "                      cv2.FONT_HERSHEY_SIMPLEX, 0.6, (0, 0, 255), 1, cv2.LINE_AA)"
   ]
  },
  {
   "cell_type": "code",
   "execution_count": 4,
   "id": "d9a9bfc0",
   "metadata": {},
   "outputs": [
    {
     "data": {
      "text/plain": [
       "True"
      ]
     },
     "execution_count": 4,
     "metadata": {},
     "output_type": "execute_result"
    }
   ],
   "source": [
    "cv2.imwrite('data/dst/barcode_qrcode_opencv.jpg', img)"
   ]
  }
 ],
 "metadata": {
  "kernelspec": {
   "display_name": "Python 3",
   "language": "python",
   "name": "python3"
  },
  "language_info": {
   "codemirror_mode": {
    "name": "ipython",
    "version": 3
   },
   "file_extension": ".py",
   "mimetype": "text/x-python",
   "name": "python",
   "nbconvert_exporter": "python",
   "pygments_lexer": "ipython3",
   "version": "3.10.6"
  }
 },
 "nbformat": 4,
 "nbformat_minor": 5
}
