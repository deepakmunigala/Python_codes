{
 "cells": [
  {
   "cell_type": "code",
   "execution_count": 1,
   "id": "f3bf9d13",
   "metadata": {},
   "outputs": [],
   "source": [
    "import math"
   ]
  },
  {
   "cell_type": "code",
   "execution_count": 2,
   "id": "1cb78e74",
   "metadata": {},
   "outputs": [
    {
     "name": "stdout",
     "output_type": "stream",
     "text": [
      "12\n"
     ]
    }
   ],
   "source": [
    "print(math.perm(4, 2))"
   ]
  },
  {
   "cell_type": "code",
   "execution_count": 3,
   "id": "fcf20712",
   "metadata": {},
   "outputs": [
    {
     "name": "stdout",
     "output_type": "stream",
     "text": [
      "24\n"
     ]
    }
   ],
   "source": [
    "print(math.perm(4, 4))"
   ]
  },
  {
   "cell_type": "code",
   "execution_count": 4,
   "id": "b97c7241",
   "metadata": {},
   "outputs": [],
   "source": [
    "# print(math.perm(4.5, 2.5))\n",
    "# TypeError: 'float' object cannot be interpreted as an integer"
   ]
  },
  {
   "cell_type": "code",
   "execution_count": 5,
   "id": "1ee4102d",
   "metadata": {},
   "outputs": [],
   "source": [
    "# print(math.perm(-4, -2))\n",
    "# ValueError: n must be a non-negative integer"
   ]
  }
 ],
 "metadata": {
  "kernelspec": {
   "display_name": "Python 3",
   "language": "python",
   "name": "python3"
  },
  "language_info": {
   "codemirror_mode": {
    "name": "ipython",
    "version": 3
   },
   "file_extension": ".py",
   "mimetype": "text/x-python",
   "name": "python",
   "nbconvert_exporter": "python",
   "pygments_lexer": "ipython3",
   "version": "3.10.8"
  }
 },
 "nbformat": 4,
 "nbformat_minor": 5
}
