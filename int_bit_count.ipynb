{
 "cells": [
  {
   "cell_type": "code",
   "execution_count": 1,
   "id": "aa0e233b",
   "metadata": {},
   "outputs": [
    {
     "name": "stdout",
     "output_type": "stream",
     "text": [
      "0b1100100\n"
     ]
    }
   ],
   "source": [
    "i = 100\n",
    "print(bin(i))"
   ]
  },
  {
   "cell_type": "code",
   "execution_count": 2,
   "id": "7363557c",
   "metadata": {},
   "outputs": [
    {
     "name": "stdout",
     "output_type": "stream",
     "text": [
      "3\n"
     ]
    }
   ],
   "source": [
    "print(i.bit_count())"
   ]
  },
  {
   "cell_type": "code",
   "execution_count": 3,
   "id": "d8ac94d9",
   "metadata": {},
   "outputs": [
    {
     "name": "stdout",
     "output_type": "stream",
     "text": [
      "0b11111111\n"
     ]
    }
   ],
   "source": [
    "i = 255\n",
    "print(bin(i))"
   ]
  },
  {
   "cell_type": "code",
   "execution_count": 4,
   "id": "fe52bf0c",
   "metadata": {},
   "outputs": [
    {
     "name": "stdout",
     "output_type": "stream",
     "text": [
      "8\n"
     ]
    }
   ],
   "source": [
    "print(i.bit_count())"
   ]
  },
  {
   "cell_type": "code",
   "execution_count": 5,
   "id": "b64df735",
   "metadata": {},
   "outputs": [
    {
     "name": "stdout",
     "output_type": "stream",
     "text": [
      "-0b1100100\n"
     ]
    }
   ],
   "source": [
    "i = -100\n",
    "print(bin(i))"
   ]
  },
  {
   "cell_type": "code",
   "execution_count": 6,
   "id": "9b9ac67e",
   "metadata": {},
   "outputs": [
    {
     "name": "stdout",
     "output_type": "stream",
     "text": [
      "3\n"
     ]
    }
   ],
   "source": [
    "print(i.bit_count())"
   ]
  },
  {
   "cell_type": "code",
   "execution_count": 7,
   "id": "201f6b3e",
   "metadata": {},
   "outputs": [
    {
     "name": "stdout",
     "output_type": "stream",
     "text": [
      "-0b11111111\n"
     ]
    }
   ],
   "source": [
    "i = -255\n",
    "print(bin(i))"
   ]
  },
  {
   "cell_type": "code",
   "execution_count": 8,
   "id": "7270b9d4",
   "metadata": {},
   "outputs": [
    {
     "name": "stdout",
     "output_type": "stream",
     "text": [
      "8\n"
     ]
    }
   ],
   "source": [
    "print(i.bit_count())"
   ]
  },
  {
   "cell_type": "code",
   "execution_count": 9,
   "id": "634668dc",
   "metadata": {},
   "outputs": [],
   "source": [
    "def bit_count(self):\n",
    "    return bin(self).count(\"1\")"
   ]
  },
  {
   "cell_type": "code",
   "execution_count": 10,
   "id": "e1f891b8",
   "metadata": {},
   "outputs": [
    {
     "name": "stdout",
     "output_type": "stream",
     "text": [
      "3\n"
     ]
    }
   ],
   "source": [
    "print(bit_count(100))"
   ]
  },
  {
   "cell_type": "code",
   "execution_count": 11,
   "id": "3ce98657",
   "metadata": {},
   "outputs": [
    {
     "name": "stdout",
     "output_type": "stream",
     "text": [
      "8\n"
     ]
    }
   ],
   "source": [
    "print(bit_count(255))"
   ]
  },
  {
   "cell_type": "code",
   "execution_count": 12,
   "id": "2247503f",
   "metadata": {},
   "outputs": [
    {
     "name": "stdout",
     "output_type": "stream",
     "text": [
      "3\n"
     ]
    }
   ],
   "source": [
    "print(bit_count(-100))"
   ]
  },
  {
   "cell_type": "code",
   "execution_count": 13,
   "id": "4e50c7f1",
   "metadata": {},
   "outputs": [
    {
     "name": "stdout",
     "output_type": "stream",
     "text": [
      "8\n"
     ]
    }
   ],
   "source": [
    "print(bit_count(-255))"
   ]
  }
 ],
 "metadata": {
  "kernelspec": {
   "display_name": "Python 3",
   "language": "python",
   "name": "python3"
  },
  "language_info": {
   "codemirror_mode": {
    "name": "ipython",
    "version": 3
   },
   "file_extension": ".py",
   "mimetype": "text/x-python",
   "name": "python",
   "nbconvert_exporter": "python",
   "pygments_lexer": "ipython3",
   "version": "3.10.8"
  }
 },
 "nbformat": 4,
 "nbformat_minor": 5
}
