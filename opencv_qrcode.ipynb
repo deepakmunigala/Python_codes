{
 "cells": [
  {
   "cell_type": "code",
   "execution_count": 1,
   "id": "622711fb",
   "metadata": {},
   "outputs": [],
   "source": [
    "import cv2"
   ]
  },
  {
   "cell_type": "code",
   "execution_count": 2,
   "id": "af53fe7f",
   "metadata": {},
   "outputs": [
    {
     "name": "stdout",
     "output_type": "stream",
     "text": [
      "4.6.0\n"
     ]
    }
   ],
   "source": [
    "print(cv2.__version__)"
   ]
  },
  {
   "cell_type": "code",
   "execution_count": 3,
   "id": "f4ae604d",
   "metadata": {},
   "outputs": [],
   "source": [
    "img = cv2.imread('data/src/qrcode.png')"
   ]
  },
  {
   "cell_type": "code",
   "execution_count": 4,
   "id": "3abee4c3",
   "metadata": {},
   "outputs": [],
   "source": [
    "qcd = cv2.QRCodeDetector()"
   ]
  },
  {
   "cell_type": "code",
   "execution_count": 5,
   "id": "9069c0be",
   "metadata": {},
   "outputs": [],
   "source": [
    "retval, decoded_info, points, straight_qrcode = qcd.detectAndDecodeMulti(img)"
   ]
  },
  {
   "cell_type": "code",
   "execution_count": 6,
   "id": "ff17f480",
   "metadata": {},
   "outputs": [
    {
     "name": "stdout",
     "output_type": "stream",
     "text": [
      "True\n"
     ]
    }
   ],
   "source": [
    "print(retval)"
   ]
  },
  {
   "cell_type": "code",
   "execution_count": 7,
   "id": "63747137",
   "metadata": {},
   "outputs": [
    {
     "name": "stdout",
     "output_type": "stream",
     "text": [
      "('QR Code Two', '', 'QR Code One')\n"
     ]
    }
   ],
   "source": [
    "print(decoded_info)"
   ]
  },
  {
   "cell_type": "code",
   "execution_count": 8,
   "id": "e0b61219",
   "metadata": {},
   "outputs": [
    {
     "name": "stdout",
     "output_type": "stream",
     "text": [
      "<class 'numpy.ndarray'>\n"
     ]
    }
   ],
   "source": [
    "print(type(points))"
   ]
  },
  {
   "cell_type": "code",
   "execution_count": 9,
   "id": "874bac12",
   "metadata": {
    "scrolled": true
   },
   "outputs": [
    {
     "name": "stdout",
     "output_type": "stream",
     "text": [
      "[[[290.9108    106.20954  ]\n",
      "  [472.8162      0.8958926]\n",
      "  [578.5836    184.1002   ]\n",
      "  [396.0495    287.81277  ]]\n",
      "\n",
      " [[620.         40.       ]\n",
      "  [829.         40.       ]\n",
      "  [829.        249.       ]\n",
      "  [620.        249.       ]]\n",
      "\n",
      " [[ 40.         40.       ]\n",
      "  [249.         40.       ]\n",
      "  [249.        249.       ]\n",
      "  [ 40.        249.       ]]]\n"
     ]
    }
   ],
   "source": [
    "print(points)"
   ]
  },
  {
   "cell_type": "code",
   "execution_count": 10,
   "id": "63d18801",
   "metadata": {},
   "outputs": [
    {
     "name": "stdout",
     "output_type": "stream",
     "text": [
      "(3, 4, 2)\n"
     ]
    }
   ],
   "source": [
    "print(points.shape)"
   ]
  },
  {
   "cell_type": "code",
   "execution_count": 11,
   "id": "4b7ea1c5",
   "metadata": {},
   "outputs": [
    {
     "name": "stdout",
     "output_type": "stream",
     "text": [
      "<class 'tuple'>\n"
     ]
    }
   ],
   "source": [
    "print(type(straight_qrcode))"
   ]
  },
  {
   "cell_type": "code",
   "execution_count": 12,
   "id": "7c707956",
   "metadata": {},
   "outputs": [
    {
     "name": "stdout",
     "output_type": "stream",
     "text": [
      "<class 'numpy.ndarray'>\n"
     ]
    }
   ],
   "source": [
    "print(type(straight_qrcode[0]))"
   ]
  },
  {
   "cell_type": "code",
   "execution_count": 13,
   "id": "0d452f8f",
   "metadata": {},
   "outputs": [
    {
     "name": "stdout",
     "output_type": "stream",
     "text": [
      "(21, 21)\n"
     ]
    }
   ],
   "source": [
    "print(straight_qrcode[0].shape)"
   ]
  },
  {
   "cell_type": "code",
   "execution_count": 14,
   "id": "3e72d64c",
   "metadata": {},
   "outputs": [],
   "source": [
    "img = cv2.polylines(img, points.astype(int), True, (0, 255, 0), 3)"
   ]
  },
  {
   "cell_type": "code",
   "execution_count": 15,
   "id": "53887465",
   "metadata": {},
   "outputs": [],
   "source": [
    "for s, p in zip(decoded_info, points):\n",
    "    img = cv2.putText(img, s, p[0].astype(int),\n",
    "                      cv2.FONT_HERSHEY_SIMPLEX, 1, (0, 0, 255), 2, cv2.LINE_AA)"
   ]
  },
  {
   "cell_type": "code",
   "execution_count": 16,
   "id": "7ef2b6a9",
   "metadata": {},
   "outputs": [
    {
     "data": {
      "text/plain": [
       "True"
      ]
     },
     "execution_count": 16,
     "metadata": {},
     "output_type": "execute_result"
    }
   ],
   "source": [
    "cv2.imwrite('data/dst/qrcode_opencv.jpg', img)"
   ]
  }
 ],
 "metadata": {
  "kernelspec": {
   "display_name": "Python 3",
   "language": "python",
   "name": "python3"
  },
  "language_info": {
   "codemirror_mode": {
    "name": "ipython",
    "version": 3
   },
   "file_extension": ".py",
   "mimetype": "text/x-python",
   "name": "python",
   "nbconvert_exporter": "python",
   "pygments_lexer": "ipython3",
   "version": "3.10.6"
  }
 },
 "nbformat": 4,
 "nbformat_minor": 5
}
